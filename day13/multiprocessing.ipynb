{
 "cells": [
  {
   "cell_type": "markdown",
   "id": "4507b8d4-cc03-437c-9fb1-68001236fc83",
   "metadata": {},
   "source": [
    "# Multiprocessing in Python\n",
    "\n",
    "What happens if we need to do a lot of computation, and vectorization with NumPy is not enough? \n",
    "\n",
    "Basically: How can we assign different tasks to different cores or processors?\n",
    "\n",
    "## Multiprocessing systems/interfaces\n",
    "\n",
    "There are a few types of multiprocessing interfaces we can use, in order of easy to difficult:\n",
    "\n",
    "| Interface | When to use |\n",
    "|-----------|-------------|\n",
    "| concurrent.futures.ProcessPoolExecutor | The modern way to launch parallel tasks. Usable for everything that takes a long time and needs to run on only one computer. |\n",
    "| mpi4py.futures.MPIPoolExecutor | The modern way to run scalable parallel tasks on computer clusters. Use for long tasks that need to run on more than one computer. |\n",
    "| multiprocess | An improved version of the built-in `multiprocessing` library. A bit more manual than the pools. |\n",
    "| multiprocessing | The classic built-in library.  You probably will be using a part of this (like the Manager), but other components are trickier than the concurrent.futures implementation. |\n",
    "| mpi4py classic | A bit beyond the scope of this class. |\n"
   ]
  },
  {
   "cell_type": "code",
   "execution_count": null,
   "id": "c61c39c4-e9a7-41fd-b011-9612b8dc303a",
   "metadata": {},
   "outputs": [],
   "source": [
    "import concurrent.futures\n",
    "import time\n",
    "import long_functions"
   ]
  },
  {
   "cell_type": "code",
   "execution_count": null,
   "id": "6572b257-e27b-4b36-bcc9-09ff47ce5a54",
   "metadata": {},
   "outputs": [],
   "source": [
    "def serial_task():\n",
    "    possible_params = [3, 5, 10, 15]\n",
    "    starting_time = time.time()\n",
    "    for n in possible_params:\n",
    "        long_functions.really_hard_task(n)\n",
    "    duration_time = time.time() - starting_time\n",
    "    print(f\"Took {duration_time:.2f} s\")"
   ]
  },
  {
   "cell_type": "code",
   "execution_count": null,
   "id": "aa33f869-1b56-48d5-91ed-c5731aeab618",
   "metadata": {},
   "outputs": [],
   "source": [
    "serial_task()"
   ]
  },
  {
   "cell_type": "code",
   "execution_count": null,
   "id": "cf421230-5a9c-4172-8631-c2110987b44f",
   "metadata": {},
   "outputs": [],
   "source": []
  },
  {
   "cell_type": "markdown",
   "id": "c344681e-0473-4761-b58c-4c4d53ec7541",
   "metadata": {},
   "source": [
    "What happens if we run too many workers at once?"
   ]
  },
  {
   "cell_type": "code",
   "execution_count": null,
   "id": "318b2c3c-6553-44bc-af1f-a46430784231",
   "metadata": {},
   "outputs": [],
   "source": []
  },
  {
   "cell_type": "markdown",
   "id": "78cd9142-9f62-4847-bd98-3e96f1f0d86e",
   "metadata": {},
   "source": [
    "If you want to run a lot of workers, you can try it on DevCloud!"
   ]
  },
  {
   "cell_type": "code",
   "execution_count": null,
   "id": "f76dd185-049f-4ea8-956f-ac48f1749c60",
   "metadata": {},
   "outputs": [],
   "source": []
  },
  {
   "cell_type": "markdown",
   "id": "8121fca3-fd0b-4af8-a5b8-32c17f068512",
   "metadata": {},
   "source": [
    "## Basic Linear Algebra Problems in Multiprocessing\n",
    "\n",
    "Turns out that the Math Kernel Library or any other basic linear algebra system (BLAS) sometimes will try to be sneaky and do multiprocessing/multithreading on its own.  However, this conflicts with your own code, so make sure to do this before importing numpy or any other packages:\n",
    "\n",
    "```\n",
    "import os\n",
    "os.environ['OMP_NUM_THREADS'] = '1'\n",
    "os.environ['MKL_NUM_THREADS'] = '1'\n",
    "\n",
    "# now you can import numpy and other packages\n",
    "import numpy as np\n",
    "import scipy.stats\n",
    "# etc.\n",
    "```"
   ]
  },
  {
   "cell_type": "code",
   "execution_count": null,
   "id": "4ad7fa87-6112-47e1-8fe7-4382e7acef5b",
   "metadata": {},
   "outputs": [],
   "source": []
  },
  {
   "cell_type": "code",
   "execution_count": null,
   "id": "c7a2f734-6e6b-4267-8973-f8a6d5576c10",
   "metadata": {},
   "outputs": [],
   "source": []
  },
  {
   "cell_type": "code",
   "execution_count": null,
   "id": "dc7504a6-085f-4d7c-a3c3-9d77db9f7992",
   "metadata": {},
   "outputs": [],
   "source": []
  },
  {
   "cell_type": "markdown",
   "id": "a910e618-1a52-43cc-8806-8c3be15ab7cd",
   "metadata": {},
   "source": [
    "## Using multiprocessing for graphical interfaces\n",
    "\n",
    "Let's try using librosa and PyQtGraph to visualize the short-time Fourier transform (STFT) of a song!"
   ]
  },
  {
   "cell_type": "code",
   "execution_count": null,
   "id": "e457f48d-58ba-49e4-ae66-40fee89ffe52",
   "metadata": {},
   "outputs": [],
   "source": []
  },
  {
   "cell_type": "code",
   "execution_count": null,
   "id": "b361f0c2-098d-46c2-8423-08239c1274a5",
   "metadata": {},
   "outputs": [],
   "source": []
  },
  {
   "cell_type": "code",
   "execution_count": null,
   "id": "4029d96a-4a74-42bb-a143-e867473efb25",
   "metadata": {},
   "outputs": [],
   "source": []
  }
 ],
 "metadata": {
  "kernelspec": {
   "display_name": "Python 3 (ipykernel)",
   "language": "python",
   "name": "python3"
  },
  "language_info": {
   "codemirror_mode": {
    "name": "ipython",
    "version": 3
   },
   "file_extension": ".py",
   "mimetype": "text/x-python",
   "name": "python",
   "nbconvert_exporter": "python",
   "pygments_lexer": "ipython3",
   "version": "3.9.9"
  }
 },
 "nbformat": 4,
 "nbformat_minor": 5
}
