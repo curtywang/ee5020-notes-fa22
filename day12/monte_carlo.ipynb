{
 "cells": [
  {
   "cell_type": "markdown",
   "id": "4d00dd76-30c7-454a-bf8e-0056326c0eda",
   "metadata": {},
   "source": [
    "# Monte Carlo Simulation"
   ]
  },
  {
   "cell_type": "markdown",
   "id": "70adf85e-082f-4759-9efd-e197623ff1e5",
   "metadata": {},
   "source": [
    "## Why Monte Carlo (MC) simulation?\n",
    "\n",
    "We use MC simulations for problems where we want to find numerical values, where the process is subject to computational costs.\n",
    "\n",
    "This is why MCMC (Markov chain Monte Carlo) is used for Bayesian regression -- each parameter space has an exponentially large search space that would be intractable to compute on every possible hypothesis.\n",
    "\n",
    "Monte Carlo simulation: Repeated random sampling to obtain numerical results.\n",
    "\n",
    "## Where can we use Monte Carlo methods in ECE?\n",
    "\n",
    "**Any complex design problem requiring optimization.**  This includes:\n",
    "\n",
    "- integrating complex functions\n",
    "- particle filtering problems (state estimation) in signal processing\n",
    "- analog and digital integrated circuit design\n",
    "- antenna sensitivity analysis and optimization\n",
    "- power plant output prediction and forecasting\n",
    "- telecommunication network design\n",
    "- risk analysis\n",
    "\n",
    "We can see how we could even plug in event-based simulation with Monte Carlo simulation!\n",
    "\n",
    "## Basic steps of a Monte Carlo simulation:\n",
    "\n",
    "1. Define the model and inputs\n",
    "2. Randomly generate the inputs using a stochastic process\n",
    "3. Using the inputs in a deterministic process to produce outputs\n",
    "4. Aggregating and analyzing the results"
   ]
  },
  {
   "cell_type": "markdown",
   "id": "8a876eb5-35a7-47fb-b242-0036ed3058c1",
   "metadata": {
    "tags": []
   },
   "source": [
    "### Using MC to numerically obtain the value of $\\pi$ with a unit circle\n",
    "\n",
    "We can numerically obtain the value of $\\pi$ by running a MC simulation with the following model:\n",
    "1. Assuming the [unit circle](https://en.wikipedia.org/wiki/Unit_circle), then we know that everywhere along the unit circle, the hypotenuse is 1: $x^2 + y^2 = 1$.  We also know that the area of a unit circle should be $\\pi$, since $a_{circle} = \\pi \\cdot r^2$.\n",
    "2. Since our model is simply just $z = x^2 + y^2$, where the constraint for accepted values is $z \\le 1$, choose distributions and bounds for the parameters.\n",
    "3. We assume that the ratio between accepted values and total attempted will be $\\pi / 4$, since we are computing the area of the circle as a ratio to the area of the square.\n",
    "4. Draw samples until the delta of the computed value for $\\pi$ between samples is less than some accepted numerical error.\n",
    "\n",
    "Let's write this up as Python code using `scipy.stats`!  Keep track of the value of the computed $\\pi$ between samples so we can plot it!"
   ]
  },
  {
   "cell_type": "code",
   "execution_count": 1,
   "id": "4628e557-599e-4a5d-9710-220dd7653ccb",
   "metadata": {},
   "outputs": [],
   "source": [
    "import numpy as np\n",
    "import scipy.stats\n",
    "import timeit\n",
    "import matplotlib.pyplot as plt\n",
    "from typing import Union\n",
    "import pandas as pd"
   ]
  },
  {
   "cell_type": "markdown",
   "id": "ebb38635-4a70-46cc-8be0-8e15b46bb2d0",
   "metadata": {},
   "source": [
    "Define the acceptance criteria function:"
   ]
  },
  {
   "cell_type": "code",
   "execution_count": 2,
   "id": "05e4d7c1-4937-4480-b3b8-2b27095e0186",
   "metadata": {},
   "outputs": [],
   "source": [
    "def pi_unit_circle_accept(\n",
    "    x: Union[float, np.ndarray],\n",
    "    y: Union[float, np.ndarray]) -> Union[bool, np.ndarray]:\n",
    "    \"\"\"\n",
    "    Returns True if x^2 + y^2 <= 1 (within the unit circle)\n",
    "        False otherwise.\n",
    "    \"\"\"\n",
    "    return np.less_equal(np.square(x) + np.square(y), 1.)"
   ]
  },
  {
   "cell_type": "markdown",
   "id": "ad72b5cb-3c4e-41db-b4fd-cddbdb27901b",
   "metadata": {},
   "source": [
    "Define the parameter distributions that we will sample from:"
   ]
  },
  {
   "cell_type": "code",
   "execution_count": 4,
   "id": "dcc4d40d-7d11-43a2-9cd0-6c34f0b05a7b",
   "metadata": {},
   "outputs": [],
   "source": [
    "the_rng = np.random.default_rng(seed=7)\n",
    "\n",
    "x_dist = scipy.stats.uniform(loc=0, scale=1)  # Uniform[0, 1]\n",
    "y_dist = scipy.stats.uniform(loc=0, scale=1)  # Uniform[0, 1]"
   ]
  },
  {
   "cell_type": "markdown",
   "id": "f8bdb0c5-197b-4b8f-8921-be52f65ce58f",
   "metadata": {},
   "source": [
    "Setup the simulation:"
   ]
  },
  {
   "cell_type": "code",
   "execution_count": 5,
   "id": "214b9c58-e899-4c30-acff-b23913b03f0a",
   "metadata": {},
   "outputs": [],
   "source": [
    "count_accepted = 0\n",
    "count_rejected = 0\n",
    "\n",
    "for _ in range(100):\n",
    "    x_draw = x_dist.rvs(random_state=the_rng)\n",
    "    y_draw = y_dist.rvs(random_state=the_rng)\n",
    "    if pi_unit_circle_accept(x_draw, y_draw):\n",
    "        count_accepted += 1\n",
    "    else:\n",
    "        count_rejected += 1"
   ]
  },
  {
   "cell_type": "code",
   "execution_count": 6,
   "id": "17933ecc-0caf-4b8c-b393-05765d700428",
   "metadata": {},
   "outputs": [
    {
     "name": "stdout",
     "output_type": "stream",
     "text": [
      "accepted: 77, rejected: 23\n"
     ]
    }
   ],
   "source": [
    "print(f\"accepted: {count_accepted}, rejected: {count_rejected}\")"
   ]
  },
  {
   "cell_type": "code",
   "execution_count": 7,
   "id": "1418b6b1-35ea-495a-95db-6f7f40731768",
   "metadata": {},
   "outputs": [
    {
     "data": {
      "text/plain": [
       "0.77"
      ]
     },
     "execution_count": 7,
     "metadata": {},
     "output_type": "execute_result"
    }
   ],
   "source": [
    "count_accepted / (count_accepted + count_rejected)"
   ]
  },
  {
   "cell_type": "code",
   "execution_count": 8,
   "id": "f0e39576-5c36-4d75-9215-546d33a2e75d",
   "metadata": {},
   "outputs": [],
   "source": [
    "estimated_pi = 4 * count_accepted / (count_accepted + count_rejected)"
   ]
  },
  {
   "cell_type": "code",
   "execution_count": 9,
   "id": "0a8ca6de-75d3-4168-b71b-33cf2ea28e04",
   "metadata": {},
   "outputs": [
    {
     "data": {
      "text/plain": [
       "3.08"
      ]
     },
     "execution_count": 9,
     "metadata": {},
     "output_type": "execute_result"
    }
   ],
   "source": [
    "estimated_pi"
   ]
  },
  {
   "cell_type": "markdown",
   "id": "6ea4ebc6-df78-4610-b69f-cef52aa7e11f",
   "metadata": {},
   "source": [
    "Speeding up the simulation by vectorizing draws:"
   ]
  },
  {
   "cell_type": "code",
   "execution_count": 31,
   "id": "812f1fce-7ff8-4352-a33a-861a22ad9641",
   "metadata": {},
   "outputs": [],
   "source": [
    "n_draws = 100000\n",
    "\n",
    "x_draw_big = x_dist.rvs(size=n_draws, random_state=the_rng)\n",
    "y_draw_big = y_dist.rvs(size=n_draws, random_state=the_rng)\n",
    "results_big = pi_unit_circle_accept(x_draw_big, y_draw_big)"
   ]
  },
  {
   "cell_type": "code",
   "execution_count": 32,
   "id": "ac3d9c10-2a85-4968-9645-d7b1d6346ab5",
   "metadata": {},
   "outputs": [
    {
     "data": {
      "text/plain": [
       "78693"
      ]
     },
     "execution_count": 32,
     "metadata": {},
     "output_type": "execute_result"
    }
   ],
   "source": [
    "np.sum(results_big)"
   ]
  },
  {
   "cell_type": "code",
   "execution_count": 33,
   "id": "8de45c5f-3751-4f03-85eb-40ecf8f40bf3",
   "metadata": {},
   "outputs": [
    {
     "data": {
      "text/plain": [
       "100000"
      ]
     },
     "execution_count": 33,
     "metadata": {},
     "output_type": "execute_result"
    }
   ],
   "source": [
    "len(results_big)"
   ]
  },
  {
   "cell_type": "code",
   "execution_count": 34,
   "id": "ec83920c-522b-4ae8-a25f-7a2a88221c93",
   "metadata": {},
   "outputs": [
    {
     "data": {
      "text/plain": [
       "3.14772"
      ]
     },
     "execution_count": 34,
     "metadata": {},
     "output_type": "execute_result"
    }
   ],
   "source": [
    "4 * (np.sum(results_big) / len(results_big))"
   ]
  },
  {
   "cell_type": "markdown",
   "id": "55bb0919-c4c2-4669-9ea2-7c32d190fc20",
   "metadata": {},
   "source": [
    "Plotting the scaling of our code against the number of draws:"
   ]
  },
  {
   "cell_type": "code",
   "execution_count": null,
   "id": "9b57f13b-ee08-4fe5-a682-3ddcd906ee2c",
   "metadata": {},
   "outputs": [],
   "source": []
  },
  {
   "cell_type": "markdown",
   "id": "a0a896e1-8ea4-4ccc-8e7f-f9dd4fc98762",
   "metadata": {},
   "source": [
    "### Using MC to generate $\\pi$ using Buffon's needles:\n",
    "\n",
    "See the CORDIC model for how trig functions are computed: https://en.wikipedia.org/wiki/CORDIC\n",
    "\n",
    "![Buffon Pi Method](buffon_pi.png)\n",
    "\n",
    "1. Assume we drop needles between two lines as a model.  There are two parameters, $D$ and $\\theta$.  $D$ is the midpoint distance between the needle dropped and one of the two lines.  $\\theta$ is the angle of the rotation of the needle from the line.\n",
    "2. The needle hitting a line is accepted as $D \\le \\frac{1}{2} \\sin \\theta$.  Use a uniform distribution again for $D$ and $\\theta$.\n",
    "3. Since the crossings of $\\sin \\theta$ are at intervals of $\\pi$, then we are effectively looking at the ratio of the area under the curve of $\\frac{1}{2} \\sin \\theta$ compared to a rectangle of $\\frac{1}{2}$ by $\\pi$.\n",
    "\n",
    "![Buffon Pi Explained](buffon_pi_exp.png)\n",
    "\n",
    "4. In this case, what is $\\pi$ with relation to the number of hits versus drops?"
   ]
  },
  {
   "cell_type": "code",
   "execution_count": null,
   "id": "9fb95a4a-64b1-4800-8fcf-c2654fa41e94",
   "metadata": {},
   "outputs": [],
   "source": []
  },
  {
   "cell_type": "code",
   "execution_count": null,
   "id": "ff9be86f-9022-4ffe-b0ee-54bff9212756",
   "metadata": {},
   "outputs": [],
   "source": []
  },
  {
   "cell_type": "code",
   "execution_count": null,
   "id": "4b816179-1b27-40de-aef7-64dea72fbd87",
   "metadata": {},
   "outputs": [],
   "source": []
  },
  {
   "cell_type": "markdown",
   "id": "e3bdcedd-0b77-4c4a-91be-466b9bf96c1e",
   "metadata": {},
   "source": [
    "## Quantifying Monte Carlo error\n",
    "\n",
    "We can check the accuracy by finding the average of the square distances from the mean, assuming $\\pi_c$ is a sequence of computed $\\pi$ values:\n",
    "\n",
    "$\\sigma^2 = \\frac{1}{N}\\sum_i^N ((\\pi_{c,i} - \\bar{\\pi_c})^2) $\n"
   ]
  },
  {
   "cell_type": "code",
   "execution_count": null,
   "id": "6bb19e30-a1fa-4fa0-a54a-979f0f15b95f",
   "metadata": {},
   "outputs": [],
   "source": []
  },
  {
   "cell_type": "code",
   "execution_count": null,
   "id": "3e04cb2c-7803-427d-9271-72c4f820becf",
   "metadata": {},
   "outputs": [],
   "source": []
  },
  {
   "cell_type": "code",
   "execution_count": null,
   "id": "bce086ce-fd33-4b2f-8c15-d72df2117dd9",
   "metadata": {},
   "outputs": [],
   "source": []
  },
  {
   "cell_type": "markdown",
   "id": "546debdd-446e-4ecc-aa72-a2aa6dcc624f",
   "metadata": {},
   "source": [
    "## Using Quasi-Monte Carlo (QMC) generators\n",
    "\n",
    "Because the Uniform distribution only guarantees that the infinite draw will be uniform, sometimes for low draws we do not get uniform samples.  QMC generators are special generators that will yield a \"more uniform\" uniform distribution.  They are in [`scipy.stats.qmc`](https://docs.scipy.org/doc/scipy/reference/stats.qmc.html#introduction-to-quasi-monte-carlo).\n",
    "\n",
    "Let's try to use a QMC generator instead of ye olde uniform distribution, and see if we can compute $\\pi$ in less draws than above:"
   ]
  },
  {
   "cell_type": "code",
   "execution_count": null,
   "id": "45a43fd3-11c0-41a3-9c54-2de86c00afa9",
   "metadata": {},
   "outputs": [],
   "source": []
  },
  {
   "cell_type": "code",
   "execution_count": null,
   "id": "2d88d613-5c9e-474e-aa04-6cf56fda4389",
   "metadata": {},
   "outputs": [],
   "source": []
  },
  {
   "cell_type": "code",
   "execution_count": null,
   "id": "0fb023e5-f12e-4ed9-bb07-dfb4c447d4a6",
   "metadata": {},
   "outputs": [],
   "source": []
  }
 ],
 "metadata": {
  "kernelspec": {
   "display_name": "Python 3 (ipykernel)",
   "language": "python",
   "name": "python3"
  },
  "language_info": {
   "codemirror_mode": {
    "name": "ipython",
    "version": 3
   },
   "file_extension": ".py",
   "mimetype": "text/x-python",
   "name": "python",
   "nbconvert_exporter": "python",
   "pygments_lexer": "ipython3",
   "version": "3.10.6"
  }
 },
 "nbformat": 4,
 "nbformat_minor": 5
}
