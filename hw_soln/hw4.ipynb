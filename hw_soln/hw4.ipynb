{
 "cells": [
  {
   "cell_type": "markdown",
   "id": "c79101c9-2565-43ef-91ec-48c1708aa498",
   "metadata": {
    "tags": []
   },
   "source": [
    "# EE 5020 Homework 4: Discrete-event simulation with SimPy and Optimization with SciPy\n",
    "\n",
    "Name: \n",
    "\n",
    "CIN: "
   ]
  },
  {
   "cell_type": "markdown",
   "id": "eadbb6dc-7e5b-4de4-bd5c-da7ea124999a",
   "metadata": {
    "tags": []
   },
   "source": [
    "## Overview\n",
    "\n",
    "In this homework, you will practice applying your mechanistic simulation skills to create models that generate datasets you can analyze and optimize. Like the previous homework, you will answer research questions below with your own Markdown and Python Code cells.\n",
    "\n",
    "## Rubric for this homework\n",
    "\n",
    "**Make sure you write down the statistical reasoning and justification for any Python code cells created.**  The Python code is only there to support you computationally for your simulation and optimization analyses. Additionally, make sure to justify any conclusions you make to answer questions with quantitative reasoning.\n",
    "\n",
    "Grading breakdown:\n",
    "\n",
    "- 25% organization and flow of simulation analysis (including random variable distributions)\n",
    "- 25% correct simulation code\n",
    "- 25% optimization setup (identification of parameters and coding of problem)\n",
    "- 25% correct optimization result\n",
    "\n",
    "**[Click here to watch a video about Academic Dishonesty in the Electrical and Computer Engineering Department](https://calstatela.zoom.us/rec/share/xWIpPJA8P5itIqGmXv5zjDcHfFO5Qi8hjURVGhkZ7adpwfxDas_6Kd6KdhcDTlAk.a2p_HGobNOEEwXNZ?startTime=1633466851000)**\n",
    "\n",
    "**Any cheating or academic dishonesty with this homework will result in an automatic zero grade and referral to the College for discipline, including dismissal from the graduate program.**\n",
    "\n",
    "Please refer to the [Student Handbook](https://www.calstatela.edu/studentconduct/california-code-regulations-standards-student-conduct) for more information."
   ]
  },
  {
   "cell_type": "markdown",
   "id": "59fec8ab-0734-4b1b-af31-bca0884cd8c2",
   "metadata": {
    "tags": []
   },
   "source": [
    "## Global imports\n",
    "\n",
    "Write your imports here so you don't have to write imports below."
   ]
  },
  {
   "cell_type": "code",
   "execution_count": 15,
   "id": "8ab98770-ea96-49d8-aa0b-b5331c0f956b",
   "metadata": {},
   "outputs": [],
   "source": [
    "import numpy as np\n",
    "import scipy.stats\n",
    "import scipy.optimize\n",
    "import simpy as sp\n",
    "import pandas as pd\n",
    "from typing import List, Tuple"
   ]
  },
  {
   "cell_type": "markdown",
   "id": "27ddd42c-b8bf-48af-8771-882074bd5f1e",
   "metadata": {
    "tags": []
   },
   "source": [
    "## Problem 1\n",
    "\n",
    "**Write and discuss the steps to answering the following research question:** We would like to design a [network packet](https://en.wikipedia.org/wiki/Network_packet) routing system. To do so, we will need to define the system and run a simulation so that we can generate data that will be used for optimization of design parameters. Our router will be a bit of a simpler system, so do not worry about any specifics you know about ethernet or telecommunications in general.  The goal of our router is that it will route packets from devices connected to it through to the internet.\n",
    "\n",
    "We'll parameterize our router so that it can accept $\\alpha$ packet routing connections at any time. Assume that packets take $\\beta$ time to be routed through the router. Let's say that each device connected to the router is only willing to wait up to $\\gamma$ time for the packet to be routed to its destination.  \n",
    "\n",
    "Let's also say that our system will allow for prioritization on three levels, so that we can make sure those high-priority packets like those for voice and video calls can route through before lower-priority packets like standard file downloads.  \n",
    "\n",
    "To model our system, let's say that we have $n$ devices on our network connected to the router.  Each device generates $X_v$ videocalling packets, $X_s$ standard priority packets, and $X_l$ low priority packets at an $X_i$ interval time between each packet submitted to the router.  So, say that this device has a total of $X_v + X_s + X_l$ packets.  I would recommend that you shuffle this set of packets.  This device would submit the first of these packets (in any order) to the router at time 0.  The device would then wait $X_i$ before submitting the next packet (which again can be any of those in this device's collection), and again until the total number of packets has been submitted to the router.\n",
    "\n",
    "Higher priority packets will not preempt lower priority packets, but they will be able to jump the queue (`simpy.PriorityResource`).\n",
    "\n",
    "Based on the distributions for the parameters below, what is the average number of packets that make it through the router to the internet, for $n$ = [3, 5, 10, 15]?  All time-related parameters below are in milliseconds. Make sure to set the random seed.\n",
    "- $\\alpha$ = 6\n",
    "- $\\beta$ = exponentially-modified normal continuous random variable at location 1 and scale 1.5\n",
    "- $\\gamma$ = 3\n",
    "- $X_v$ = uniform discrete random variable between [2,10]\n",
    "- $X_s$ = uniform discrete random variable between [2,10]\n",
    "- $X_l$ = uniform discrete random variable between [2,10]\n",
    "- $X_i$ = binomial discrete random variable with n at 10 and p at 0.5"
   ]
  },
  {
   "cell_type": "markdown",
   "id": "caf879c7-52e9-4274-b5d1-a0da780d3d4e",
   "metadata": {},
   "source": [
    "**Solution:** The easiest strategy here is to just keep a variable that stores the total number of packets that were successfully routed.  If you wanted to, you could do the full log as well and then count from there, which is the best and most flexible strategy, since often you will need more than just one metric when working on a design problem in your career.\n",
    "\n",
    "We can use a nested for loop to generate all of the packets across the devices at once:"
   ]
  },
  {
   "cell_type": "code",
   "execution_count": 35,
   "id": "66f49168-1188-4307-ae23-1a1486980ebc",
   "metadata": {},
   "outputs": [],
   "source": [
    "RANDOM_SEED = 42\n",
    "\n",
    "def packet_process(env: sp.Environment,\n",
    "                   router: sp.PriorityResource,\n",
    "                   list_successful_packets: list,\n",
    "                   list_unsuccessful_packets: list,\n",
    "                   packet_name: str,\n",
    "                   prio: int, beta: float,\n",
    "                   gamma: float, omega: float,\n",
    "                   start_delay: float):\n",
    "    device_wait_time_left = gamma\n",
    "    router_wait_time_left = omega\n",
    "    packet_routing_time = np.abs(beta)\n",
    "    timeout_event = None\n",
    "    \n",
    "    yield env.timeout(start_delay)  # handle x_i\n",
    "    with router.request(priority=prio) as routing_slot:\n",
    "        wait_start = env.now\n",
    "        device_timeout = env.timeout(device_wait_time_left)\n",
    "        timeout_event = yield routing_slot | device_timeout\n",
    "        if device_timeout in timeout_event:\n",
    "            list_unsuccessful_packets.append(packet_name)\n",
    "            return\n",
    "        \n",
    "        wait_finish = env.now\n",
    "        device_wait_time_left -= wait_finish - wait_start\n",
    "        router_wait_time_left -= wait_finish - wait_start\n",
    "        device_timeout = env.timeout(device_wait_time_left)\n",
    "        router_timeout = env.timeout(router_wait_time_left)\n",
    "        timeout_event = yield env.timeout(packet_routing_time) | device_timeout | router_timeout\n",
    "        if device_timeout in timeout_event or router_timeout in timeout_event:\n",
    "            list_unsuccessful_packets.append(packet_name)\n",
    "            return\n",
    "    \n",
    "    list_successful_packets.append(packet_name)\n",
    "    return\n",
    "\n",
    "\n",
    "def generate_packets(env: sp.Environment, router: sp.PriorityResource,\n",
    "                     the_rng: np.random.Generator,\n",
    "                     num_devices: int, list_success: list,\n",
    "                     list_failure: list, gamma: float, omega: float):\n",
    "    priorities = {\"v\": 0, \"s\": 1, \"l\": 2}\n",
    "    dist_beta = scipy.stats.exponnorm(1, 1.5)\n",
    "    dist_beta.random_state = the_rng\n",
    "    dist_x_v = scipy.stats.randint(2, 11)\n",
    "    dist_x_v.random_state = the_rng\n",
    "    dist_x_s = scipy.stats.randint(2, 11)\n",
    "    dist_x_s.random_state = the_rng\n",
    "    dist_x_l = scipy.stats.randint(2, 11)\n",
    "    dist_x_l.random_state = the_rng\n",
    "    dist_x_i = scipy.stats.binom(10, 0.5)\n",
    "    dist_x_i.random_state = the_rng\n",
    "    for device_id in range(num_devices):\n",
    "        x_i = dist_x_i.rvs()  # length of start delays\n",
    "        x_v = dist_x_v.rvs()  # number of V packets\n",
    "        x_s = dist_x_s.rvs()  # number of S packets\n",
    "        x_l = dist_x_l.rvs()  # number of L packets\n",
    "        for pid in range(x_v):\n",
    "            beta = dist_beta.rvs()\n",
    "            packet_name = f\"Device {device_id} V_Packet {pid}\"\n",
    "            env.process(packet_process(env, router, list_success, list_failure,\n",
    "                                       packet_name, priorities[\"v\"], beta,\n",
    "                                       gamma, omega, pid * x_i))\n",
    "        for pid in range(x_s):\n",
    "            beta = dist_beta.rvs()\n",
    "            packet_name = f\"Device {device_id} S_Packet {pid}\"\n",
    "            env.process(packet_process(env, router, list_success, list_failure,\n",
    "                                       packet_name, priorities[\"s\"], beta,\n",
    "                                       gamma, omega, pid * x_i))\n",
    "        for pid in range(x_l):\n",
    "            beta = dist_beta.rvs()\n",
    "            packet_name = f\"Device {device_id} L_Packet {pid}\"\n",
    "            env.process(packet_process(env, router, list_success, list_failure,\n",
    "                                       packet_name, priorities[\"l\"], beta,\n",
    "                                       gamma, omega, pid * x_i))\n",
    "\n",
    "\n",
    "def run_simulation(omega: float, num_devices: int,\n",
    "                   alpha: int = 6, gamma: float = 3.) -> Tuple[int, int]:\n",
    "    list_success = []\n",
    "    list_failure = []\n",
    "    the_rng = np.random.default_rng(RANDOM_SEED)\n",
    "    the_env = sp.Environment()\n",
    "    the_router = sp.PriorityResource(the_env, capacity=alpha)\n",
    "    generate_packets(the_env, the_router, the_rng, num_devices,\n",
    "                     list_success, list_failure, gamma, omega)\n",
    "    the_env.run()\n",
    "    return len(list_success), len(list_failure)"
   ]
  },
  {
   "cell_type": "code",
   "execution_count": 36,
   "id": "dd2c16b4-8815-4415-abb9-ec0771d235f6",
   "metadata": {},
   "outputs": [
    {
     "name": "stdout",
     "output_type": "stream",
     "text": [
      "3 devices produced 41 routed, 13 dropped, for 0.76 success rate\n",
      "5 devices produced 57 routed, 33 dropped, for 0.63 success rate\n",
      "10 devices produced 59 routed, 114 dropped, for 0.34 success rate\n",
      "15 devices produced 66 routed, 185 dropped, for 0.26 success rate\n"
     ]
    }
   ],
   "source": [
    "for n in [3, 5, 10, 15]:\n",
    "    packets_success, packets_failed = run_simulation(1000, n)\n",
    "    print(f\"{n} devices produced {packets_success} routed, {packets_failed} dropped\"\n",
    "          f\", for {packets_success / (packets_failed + packets_success):.2f} success rate\")"
   ]
  },
  {
   "cell_type": "markdown",
   "id": "f8db30c6-8539-4e8d-a2dc-5c0f7786321a",
   "metadata": {
    "tags": []
   },
   "source": [
    "## Problem 2\n",
    "\n",
    "**Write and discuss the steps to answering the following research question:** Create a function that will automatically run the simulation above, introducing a new constraint named $\\omega$, which is the length of time the router is willing to dedicate to routing a packet.  Thus, you will need to modify Problem 1 so that $\\omega$ is incorporated as another wait time that will interrupt the packet routing.\n",
    "\n",
    "Then, we would like to see how $\\omega$ affects the number of packets that successfully route through. Make sure that the function sets the same random seed inside the function, so that your simulation parameters are consistent across runs. \n",
    "\n",
    "Using `scipy.optimize.minimize_scalar()` ([see reference](https://docs.scipy.org/doc/scipy/reference/generated/scipy.optimize.minimize_scalar.html#scipy.optimize.minimize_scalar)), what is the value of $\\omega$ (router processing time allocated) that results in the highest number of packets that successfully route through our router design, where $2 \\le \\omega \\le 10$?"
   ]
  },
  {
   "cell_type": "markdown",
   "id": "b137ff3c-8141-420b-bc32-8c3d90f0f687",
   "metadata": {},
   "source": [
    "**Solution:** It looks like we can just assume 3 devices is best since it has the highest ratio of successful packets.  So, just define the objective function as the negative of the number of successes to maximize."
   ]
  },
  {
   "cell_type": "code",
   "execution_count": 37,
   "id": "a188aac9-d9d4-499e-b8f6-9163afc05af4",
   "metadata": {},
   "outputs": [
    {
     "name": "stdout",
     "output_type": "stream",
     "text": [
      "2.0 omega: 21 routed, 33 dropped, for 0.39 success rate\n",
      "4.0 omega: 41 routed, 13 dropped, for 0.76 success rate\n",
      "9.472135899025261 omega: 41 routed, 13 dropped, for 0.76 success rate\n",
      "10.0 omega: 41 routed, 13 dropped, for 0.76 success rate\n",
      "12.0 omega: 41 routed, 13 dropped, for 0.76 success rate\n"
     ]
    }
   ],
   "source": [
    "def objective(omega: float):\n",
    "    n_success, n_failure = run_simulation(omega, 3)\n",
    "    return -n_success\n",
    "\n",
    "\n",
    "opt_soln = scipy.optimize.minimize_scalar(objective, bounds=(2., 10.))\n",
    "opt_x = opt_soln.x\n",
    "\n",
    "for omega in [2., 4., opt_x, 10., 12.]:\n",
    "    packets_success, packets_failed = run_simulation(omega, 3)\n",
    "    print(f\"{omega} omega: {packets_success} routed, {packets_failed} dropped\"\n",
    "          f\", for {packets_success / (packets_failed + packets_success):.2f} success rate\")"
   ]
  },
  {
   "cell_type": "code",
   "execution_count": null,
   "id": "507f25bc-91f3-4cf4-a29d-bbb42b91b407",
   "metadata": {},
   "outputs": [],
   "source": []
  }
 ],
 "metadata": {
  "kernelspec": {
   "display_name": "Python 3",
   "language": "python",
   "name": "python3"
  },
  "language_info": {
   "codemirror_mode": {
    "name": "ipython",
    "version": 3
   },
   "file_extension": ".py",
   "mimetype": "text/x-python",
   "name": "python",
   "nbconvert_exporter": "python",
   "pygments_lexer": "ipython3",
   "version": "3.9.7"
  }
 },
 "nbformat": 4,
 "nbformat_minor": 5
}
